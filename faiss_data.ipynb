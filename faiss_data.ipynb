{
 "cells": [
  {
   "cell_type": "code",
   "execution_count": 1,
   "metadata": {},
   "outputs": [
    {
     "data": {
      "text/plain": [
       "True"
      ]
     },
     "execution_count": 1,
     "metadata": {},
     "output_type": "execute_result"
    }
   ],
   "source": [
    "import torch\n",
    "\n",
    "torch.cuda.is_available()"
   ]
  },
  {
   "cell_type": "code",
   "execution_count": 2,
   "metadata": {},
   "outputs": [],
   "source": [
    "import os\n",
    "import unicodedata\n",
    "\n",
    "import torch\n",
    "import pandas as pd\n",
    "from tqdm import tqdm\n",
    "import fitz  # PyMuPDF\n",
    "\n",
    "from transformers import (\n",
    "    AutoTokenizer,\n",
    "    AutoModelForCausalLM,\n",
    "    pipeline,\n",
    "    BitsAndBytesConfig,\n",
    "    Gemma2ForCausalLM\n",
    ")\n",
    "from accelerate import Accelerator\n",
    "\n",
    "# Langchain 관련\n",
    "from langchain.llms import HuggingFacePipeline\n",
    "from langchain.embeddings import HuggingFaceEmbeddings\n",
    "from langchain.vectorstores import FAISS\n",
    "from langchain.schema import Document\n",
    "from langchain.text_splitter import RecursiveCharacterTextSplitter\n",
    "from langchain.prompts import PromptTemplate\n",
    "from langchain.schema.runnable import RunnablePassthrough\n",
    "from langchain.schema.output_parser import StrOutputParser\n",
    "\n",
    "from peft import PeftModel\n",
    "import faiss\n",
    "import pickle\n",
    "\n",
    "\n",
    "# os.environ[\"PYTORCH_CUDA_ALLOC_CONF\"] = \"expandable_segments:True\"\n",
    "torch.cuda.empty_cache()"
   ]
  },
  {
   "cell_type": "code",
   "execution_count": 7,
   "metadata": {},
   "outputs": [
    {
     "name": "stdout",
     "output_type": "stream",
     "text": [
      "['외국인근로자 고용·취업 _ 외국인근로자 고용 _ 사용자 준수사항 _ 그 밖의 준수사항.pdf', '외국인근로자 고용·취업 _ 외국인근로자 고용 _ 사용자 준수사항 _ 보험 가입 의무.pdf', '외국인근로자 고용·취업 _ 국내체류 관련 정보 _ 출·입국 및 체류 _ 체류 관련 준수사항.pdf', '외국인근로자 고용·취업 _ 외국인근로자 고용·취업 개요 _ 외국인근로자 권리구제 제도 _ 노동 관련 권리구제.pdf', '외국인근로자 고용·취업 _ 국내체류 관련 정보 _ 여성근로자 보호 _ 직장 내 성희롱 예방 및 조치.pdf', '외국인근로자 고용·취업 _ 외국인근로자 취업 _ 외국인근로자 준수사항 _ 보험가입 의무.pdf', '외국인근로자 고용·취업 _ 외국인근로자 고용 _ 외국인근로자 고용자격·범위 _ 사용자 자격요건.pdf', '외국인근로자 고용·취업 _ 국내체류 관련 정보 _ 출·입국 및 체류 _ 출입국 관련 절차.pdf', '외국인근로자 고용·취업 _ 국내체류 관련 정보 _ 국제결혼·자녀출생 및 사망 _ 장례 관련 절차.pdf', '외국인근로자 고용·취업 _ 외국인근로자 취업 _ 외국인근로자 취업절차 _ 방문취업(H-2) 체류자격자 취업절차.pdf', '외국인근로자 고용·취업 _ 국내체류 관련 정보 _ 국제결혼·자녀출생 및 사망 _ 자녀 출생·취학 관련 절차.pdf', '외국인근로자 고용·취업 _ 외국인근로자 고용 _ 외국인근로자 고용제한 _ 고용허가 또는 특례고용확인의 취소 및 고용 제한.pdf', '외국인근로자 고용·취업 _ 외국인근로자 고용 _ 외국인근로자 고용자격·범위 _ 외국인근로자 도입규모 및 업종.pdf', '외국인근로자 고용·취업 _ 외국인근로자 고용·취업 개요 _ 외국인근로자 권리보호 제도 _ 사회보장 관계 법령에 의한 보호.pdf', '외국인근로자 고용·취업 _ 외국인근로자 고용·취업 개요 _ 외국인근로자 고용·취업 제도 _ 「외국인근로자의 고용 등에 관한 법률」의 외국인근로자 고용·취업.pdf', '외국인근로자 고용·취업 _ 외국인근로자 고용 _ 외국인근로자 고용절차 _ 방문취업(H-2) 체류자격자 고용절차.pdf', '외국인근로자 고용·취업 _ 외국인근로자 취업 _ 외국인근로자 취업자격 _ 외국인근로자 자격요건.pdf', '외국인근로자 고용·취업 _ 외국인근로자 고용 _ 사용자 준수사항 _ 고용변동 등 신고 의무.pdf', '외국인근로자 고용·취업 _ 외국인근로자 고용 _ 외국인근로자 고용절차 _ 비전문취업(E-9) 체류자격자 고용절차.pdf', '외국인근로자 고용·취업 _ 외국인근로자 취업 _ 외국인근로자 취업 지원 및 제한 _ 고충상담 및 처리 지원.pdf', '외국인근로자 고용·취업 _ 외국인근로자 고용·취업 개요 _ 외국인근로자 권리구제 제도 _ 사회보장 관련 권리구제.pdf', '외국인근로자 고용·취업 _ 외국인근로자 고용·취업 개요 _ 외국인근로자 고용·취업 제도 _ 외국인근로자 취업 및 체류자격.pdf', '외국인근로자 고용·취업 _ 외국인근로자 취업 _ 외국인근로자 준수사항 _ 「출입국관리법」의 준수사항.pdf', '외국인근로자 고용·취업 _ 국내체류 관련 정보 _ 여성근로자 보호 _ 여성보호를 위한 근로기준.pdf', '외국인근로자 고용·취업 _ 국내체류 관련 정보 _ 국제결혼·자녀출생 및 사망 _ 국제결혼 관련 절차.pdf', '외국인근로자 고용·취업 _ 외국인근로자 취업 _ 외국인근로자 취업절차 _ 비전문취업(E-9) 체류자격자 취업절차.pdf', '외국인근로자 고용·취업 _ 외국인근로자 고용 _ 사용자 준수사항 _ 임금 및 근로조건 사항.pdf', '외국인근로자 고용·취업 _ 외국인근로자 고용·취업 개요 _ 외국인근로자 권리보호 제도 _ 노동 관계 법령에 의한 보호.pdf', '외국인근로자 고용·취업 _ 외국인근로자 취업 _ 외국인근로자 취업 지원 및 제한 _ 취업 기간 및 사업장 제한.pdf']\n",
      "29\n"
     ]
    }
   ],
   "source": [
    "import os\n",
    "\n",
    "# 특정 폴더 지정 (현재 폴더: \".\")\n",
    "folder_path = \"./data/\"\n",
    "\n",
    "# 특정 단어(prefix)로 시작하는 파일만 필터링\n",
    "prefix = \"외국인근로자 고용·취업\"  # 예: 'data'로 시작하는 파일만 찾기\n",
    "files = [f for f in os.listdir(folder_path) if f.startswith(prefix)]\n",
    "\n",
    "print(files)\n",
    "print(len(files))"
   ]
  },
  {
   "cell_type": "code",
   "execution_count": 14,
   "metadata": {},
   "outputs": [],
   "source": [
    "torch.cuda.empty_cache()\n",
    "torch.cuda.ipc_collect()"
   ]
  },
  {
   "cell_type": "code",
   "execution_count": 16,
   "metadata": {},
   "outputs": [
    {
     "name": "stderr",
     "output_type": "stream",
     "text": [
      "Processing PDFs for 고용절차:   0%|          | 0/5 [00:00<?, ?it/s]"
     ]
    },
    {
     "name": "stderr",
     "output_type": "stream",
     "text": [
      "Processing PDFs for 고용절차: 100%|██████████| 5/5 [00:00<00:00, 31.92it/s]\n"
     ]
    },
    {
     "name": "stdout",
     "output_type": "stream",
     "text": [
      "Processing 외국인근로자 고용·취업 _ 외국인근로자 고용 _ 외국인근로자 고용자격·범위 _ 사용자 자격요건 in category 고용절차...\n",
      "Processing 외국인근로자 고용·취업 _ 외국인근로자 고용 _ 외국인근로자 고용자격·범위 _ 외국인근로자 도입규모 및 업종 in category 고용절차...\n",
      "Processing 외국인근로자 고용·취업 _ 외국인근로자 고용 _ 외국인근로자 고용절차 _ 방문취업(H-2) 체류자격자 고용절차 in category 고용절차...\n",
      "Processing 외국인근로자 고용·취업 _ 외국인근로자 고용 _ 외국인근로자 고용절차 _ 비전문취업(E-9) 체류자격자 고용절차 in category 고용절차...\n",
      "Processing 외국인근로자 고용·취업 _ 외국인근로자 고용 _ 외국인근로자 고용제한 _ 고용허가 또는 특례고용확인의 취소 및 고용 제한 in category 고용절차...\n"
     ]
    },
    {
     "name": "stderr",
     "output_type": "stream",
     "text": [
      "Processing PDFs for 취업 및 준수사항: 100%|██████████| 7/7 [00:00<00:00, 46.74it/s]\n"
     ]
    },
    {
     "name": "stdout",
     "output_type": "stream",
     "text": [
      "Processing 외국인근로자 고용·취업 _ 외국인근로자 취업 _ 외국인근로자 취업절차 _ 방문취업(H-2) 체류자격자 취업절차 in category 취업 및 준수사항...\n",
      "Processing 외국인근로자 고용·취업 _ 외국인근로자 취업 _ 외국인근로자 취업절차 _ 비전문취업(E-9) 체류자격자 취업절차 in category 취업 및 준수사항...\n",
      "Processing 외국인근로자 고용·취업 _ 외국인근로자 취업 _ 외국인근로자 취업자격 _ 외국인근로자 자격요건 in category 취업 및 준수사항...\n",
      "Processing 외국인근로자 고용·취업 _ 외국인근로자 취업 _ 외국인근로자 준수사항 _ 보험가입 의무 in category 취업 및 준수사항...\n",
      "Processing 외국인근로자 고용·취업 _ 외국인근로자 취업 _ 외국인근로자 준수사항 _ 「출입국관리법」의 준수사항 in category 취업 및 준수사항...\n",
      "Processing 외국인근로자 고용·취업 _ 외국인근로자 취업 _ 외국인근로자 취업 지원 및 제한 _ 취업 기간 및 사업장 제한 in category 취업 및 준수사항...\n",
      "Processing 외국인근로자 고용·취업 _ 외국인근로자 취업 _ 외국인근로자 취업 지원 및 제한 _ 고충상담 및 처리 지원 in category 취업 및 준수사항...\n"
     ]
    },
    {
     "name": "stderr",
     "output_type": "stream",
     "text": [
      "Processing PDFs for 노동법 및 권리보호: 100%|██████████| 5/5 [00:00<00:00, 23.28it/s]"
     ]
    },
    {
     "name": "stdout",
     "output_type": "stream",
     "text": [
      "Processing 외국인근로자 고용·취업 _ 외국인근로자 고용·취업 개요 _ 외국인근로자 권리구제 제도 _ 노동 관련 권리구제 in category 노동법 및 권리보호...\n",
      "Processing 외국인근로자 고용·취업 _ 외국인근로자 고용·취업 개요 _ 외국인근로자 권리구제 제도 _ 사회보장 관련 권리구제 in category 노동법 및 권리보호...\n",
      "Processing 외국인근로자 고용·취업 _ 외국인근로자 고용·취업 개요 _ 외국인근로자 권리보호 제도 _ 노동 관계 법령에 의한 보호 in category 노동법 및 권리보호...\n",
      "Processing 외국인근로자 고용·취업 _ 외국인근로자 고용·취업 개요 _ 외국인근로자 권리보호 제도 _ 사회보장 관계 법령에 의한 보호 in category 노동법 및 권리보호...\n",
      "Processing 외국인근로자 고용·취업 _ 외국인근로자 고용·취업 개요 _ 외국인근로자 고용·취업 제도 _ 「외국인근로자의 고용 등에 관한 법률」의 외국인근로자 고용·취업 in category 노동법 및 권리보호...\n"
     ]
    },
    {
     "name": "stderr",
     "output_type": "stream",
     "text": [
      "\n",
      "Processing PDFs for 출입국 및 체류: 100%|██████████| 5/5 [00:00<00:00, 52.48it/s]\n"
     ]
    },
    {
     "name": "stdout",
     "output_type": "stream",
     "text": [
      "Processing 외국인근로자 고용·취업 _ 국내체류 관련 정보 _ 출·입국 및 체류 _ 출입국 관련 절차 in category 출입국 및 체류...\n",
      "Processing 외국인근로자 고용·취업 _ 국내체류 관련 정보 _ 출·입국 및 체류 _ 체류 관련 준수사항 in category 출입국 및 체류...\n",
      "Processing 외국인근로자 고용·취업 _ 국내체류 관련 정보 _ 국제결혼·자녀출생 및 사망 _ 국제결혼 관련 절차 in category 출입국 및 체류...\n",
      "Processing 외국인근로자 고용·취업 _ 국내체류 관련 정보 _ 국제결혼·자녀출생 및 사망 _ 자녀 출생·취학 관련 절차 in category 출입국 및 체류...\n",
      "Processing 외국인근로자 고용·취업 _ 국내체류 관련 정보 _ 국제결혼·자녀출생 및 사망 _ 장례 관련 절차 in category 출입국 및 체류...\n"
     ]
    },
    {
     "name": "stderr",
     "output_type": "stream",
     "text": [
      "Processing PDFs for 사용자 의무: 100%|██████████| 6/6 [00:00<00:00, 67.17it/s]\n"
     ]
    },
    {
     "name": "stdout",
     "output_type": "stream",
     "text": [
      "Processing 외국인근로자 고용·취업 _ 외국인근로자 고용 _ 사용자 준수사항 _ 그 밖의 준수사항 in category 사용자 의무...\n",
      "Processing 외국인근로자 고용·취업 _ 외국인근로자 고용 _ 사용자 준수사항 _ 보험 가입 의무 in category 사용자 의무...\n",
      "Processing 외국인근로자 고용·취업 _ 외국인근로자 고용 _ 사용자 준수사항 _ 고용변동 등 신고 의무 in category 사용자 의무...\n",
      "Processing 외국인근로자 고용·취업 _ 외국인근로자 고용 _ 사용자 준수사항 _ 임금 및 근로조건 사항 in category 사용자 의무...\n",
      "Processing 외국인근로자 고용·취업 _ 국내체류 관련 정보 _ 여성근로자 보호 _ 직장 내 성희롱 예방 및 조치 in category 사용자 의무...\n",
      "Processing 외국인근로자 고용·취업 _ 국내체류 관련 정보 _ 여성근로자 보호 _ 여성보호를 위한 근로기준 in category 사용자 의무...\n"
     ]
    },
    {
     "data": {
      "text/plain": [
       "{'고용절차': {'db': <langchain_community.vectorstores.faiss.FAISS at 0x7f2566bb6de0>,\n",
       "  'retriever': VectorStoreRetriever(tags=['FAISS', 'HuggingFaceEmbeddings'], vectorstore=<langchain_community.vectorstores.faiss.FAISS object at 0x7f2566bb6de0>, search_type='mmr', search_kwargs={'k': 3, 'fetch_k': 10})},\n",
       " '취업 및 준수사항': {'db': <langchain_community.vectorstores.faiss.FAISS at 0x7f256559aba0>,\n",
       "  'retriever': VectorStoreRetriever(tags=['FAISS', 'HuggingFaceEmbeddings'], vectorstore=<langchain_community.vectorstores.faiss.FAISS object at 0x7f256559aba0>, search_type='mmr', search_kwargs={'k': 3, 'fetch_k': 10})},\n",
       " '노동법 및 권리보호': {'db': <langchain_community.vectorstores.faiss.FAISS at 0x7f25655a89b0>,\n",
       "  'retriever': VectorStoreRetriever(tags=['FAISS', 'HuggingFaceEmbeddings'], vectorstore=<langchain_community.vectorstores.faiss.FAISS object at 0x7f25655a89b0>, search_type='mmr', search_kwargs={'k': 3, 'fetch_k': 10})},\n",
       " '출입국 및 체류': {'db': <langchain_community.vectorstores.faiss.FAISS at 0x7f2552335520>,\n",
       "  'retriever': VectorStoreRetriever(tags=['FAISS', 'HuggingFaceEmbeddings'], vectorstore=<langchain_community.vectorstores.faiss.FAISS object at 0x7f2552335520>, search_type='mmr', search_kwargs={'k': 3, 'fetch_k': 10})},\n",
       " '사용자 의무': {'db': <langchain_community.vectorstores.faiss.FAISS at 0x7f2552335b20>,\n",
       "  'retriever': VectorStoreRetriever(tags=['FAISS', 'HuggingFaceEmbeddings'], vectorstore=<langchain_community.vectorstores.faiss.FAISS object at 0x7f2552335b20>, search_type='mmr', search_kwargs={'k': 3, 'fetch_k': 10})}}"
      ]
     },
     "execution_count": 16,
     "metadata": {},
     "output_type": "execute_result"
    }
   ],
   "source": [
    "import os\n",
    "import fitz\n",
    "import faiss\n",
    "import pickle\n",
    "import unicodedata\n",
    "from tqdm import tqdm\n",
    "from langchain.text_splitter import RecursiveCharacterTextSplitter\n",
    "from langchain.vectorstores import FAISS\n",
    "from langchain.embeddings import HuggingFaceEmbeddings\n",
    "from langchain.docstore.document import Document\n",
    "\n",
    "# PDF 처리 함수\n",
    "def process_pdf(file_path, chunk_size=768, chunk_overlap=64):\n",
    "    \"\"\"PDF 텍스트 추출 후 chunk 단위로 나누기\"\"\"\n",
    "    doc = fitz.open(file_path)\n",
    "    text = ''\n",
    "\n",
    "    # 모든 페이지의 텍스트 추출\n",
    "    for page in doc:\n",
    "        text += page.get_text()\n",
    "\n",
    "    # 텍스트를 chunk로 분할\n",
    "    splitter = RecursiveCharacterTextSplitter(\n",
    "        chunk_size=chunk_size,\n",
    "        chunk_overlap=chunk_overlap\n",
    "    )\n",
    "    chunk_temp = splitter.split_text(text)\n",
    "\n",
    "    # Document 객체 리스트 생성\n",
    "    chunks = [Document(page_content=t, metadata={\"source\": file_path}) for t in chunk_temp]\n",
    "    return chunks\n",
    "\n",
    "\n",
    "# FAISS DB 생성 함수\n",
    "def create_vector_db(chunks, model_path=\"nlpai-lab/KURE-v1\"):\n",
    "    \"\"\"FAISS DB 생성\"\"\"\n",
    "    model_kwargs = {'device': 'cuda:1'}\n",
    "    encode_kwargs = {'normalize_embeddings': True}\n",
    "    embeddings = HuggingFaceEmbeddings(\n",
    "        model_name=model_path,\n",
    "        model_kwargs=model_kwargs,\n",
    "        encode_kwargs=encode_kwargs\n",
    "    )\n",
    "    \n",
    "    db = FAISS.from_documents(chunks, embedding=embeddings)\n",
    "    return db\n",
    "\n",
    "\n",
    "# 카테고리별 FAISS DB 통합\n",
    "def process_pdfs_by_category(base_directory, category_mapping):\n",
    "    \"\"\"카테고리별로 PDF를 처리하여 FAISS DB를 하나로 통합\"\"\"\n",
    "    pdf_databases = {}\n",
    "\n",
    "    for category, pdf_files in category_mapping.items():\n",
    "        category_dir = os.path.join(base_directory, category)\n",
    "        os.makedirs(category_dir, exist_ok=True)\n",
    "\n",
    "        all_chunks = []  # 해당 카테고리의 모든 PDF chunks 저장\n",
    "\n",
    "        for pdf_name in tqdm(pdf_files, desc=f\"Processing PDFs for {category}\"):\n",
    "            full_path = os.path.join(base_directory, pdf_name)\n",
    "            pdf_title = os.path.splitext(pdf_name)[0]\n",
    "            print(f\"Processing {pdf_title} in category {category}...\")\n",
    "\n",
    "            # PDF 처리 후 chunk 생성\n",
    "            chunks = process_pdf(full_path)\n",
    "\n",
    "            # 빈 chunks 처리\n",
    "            if not chunks:\n",
    "                print(f\"Skipping {pdf_title} due to empty content.\")\n",
    "                continue\n",
    "\n",
    "            # 모든 chunks를 하나의 리스트에 추가\n",
    "            all_chunks.extend(chunks)\n",
    "\n",
    "        # 카테고리 내 전체 PDF의 chunks를 하나의 FAISS DB로 통합\n",
    "        if all_chunks:\n",
    "            db = create_vector_db(all_chunks)\n",
    "\n",
    "            # Retriever 생성\n",
    "            retriever = db.as_retriever(search_type=\"mmr\", search_kwargs={'k': 3, 'fetch_k': 10})\n",
    "\n",
    "            # FAISS DB 저장\n",
    "            faiss_path = os.path.join(category_dir, f\"{category}_faiss_db.index\")\n",
    "            faiss.write_index(db.index, faiss_path)\n",
    "\n",
    "            # 매핑 객체 저장\n",
    "            with open(os.path.join(category_dir, f\"{category}_index_to_docstore_id.pkl\"), \"wb\") as f:\n",
    "                pickle.dump(db.index_to_docstore_id, f)\n",
    "\n",
    "            with open(os.path.join(category_dir, f\"{category}_docstore.pkl\"), \"wb\") as f:\n",
    "                pickle.dump(db.docstore, f)\n",
    "\n",
    "            # 결과 저장\n",
    "            pdf_databases[category] = {\n",
    "                'db': db,\n",
    "                'retriever': retriever\n",
    "            }\n",
    "\n",
    "    return pdf_databases\n",
    "\n",
    "category_mapping = {\n",
    "    \"고용절차\": [\n",
    "        \"외국인근로자 고용·취업 _ 외국인근로자 고용 _ 외국인근로자 고용자격·범위 _ 사용자 자격요건.pdf\",\n",
    "        \"외국인근로자 고용·취업 _ 외국인근로자 고용 _ 외국인근로자 고용자격·범위 _ 외국인근로자 도입규모 및 업종.pdf\",\n",
    "        \"외국인근로자 고용·취업 _ 외국인근로자 고용 _ 외국인근로자 고용절차 _ 방문취업(H-2) 체류자격자 고용절차.pdf\",\n",
    "        \"외국인근로자 고용·취업 _ 외국인근로자 고용 _ 외국인근로자 고용절차 _ 비전문취업(E-9) 체류자격자 고용절차.pdf\",\n",
    "        \"외국인근로자 고용·취업 _ 외국인근로자 고용 _ 외국인근로자 고용제한 _ 고용허가 또는 특례고용확인의 취소 및 고용 제한.pdf\"\n",
    "    ],\n",
    "    \"취업 및 준수사항\": [\n",
    "        \"외국인근로자 고용·취업 _ 외국인근로자 취업 _ 외국인근로자 취업절차 _ 방문취업(H-2) 체류자격자 취업절차.pdf\",\n",
    "        \"외국인근로자 고용·취업 _ 외국인근로자 취업 _ 외국인근로자 취업절차 _ 비전문취업(E-9) 체류자격자 취업절차.pdf\",\n",
    "        \"외국인근로자 고용·취업 _ 외국인근로자 취업 _ 외국인근로자 취업자격 _ 외국인근로자 자격요건.pdf\",\n",
    "        \"외국인근로자 고용·취업 _ 외국인근로자 취업 _ 외국인근로자 준수사항 _ 보험가입 의무.pdf\",\n",
    "        \"외국인근로자 고용·취업 _ 외국인근로자 취업 _ 외국인근로자 준수사항 _ 「출입국관리법」의 준수사항.pdf\",\n",
    "        \"외국인근로자 고용·취업 _ 외국인근로자 취업 _ 외국인근로자 취업 지원 및 제한 _ 취업 기간 및 사업장 제한.pdf\",\n",
    "        \"외국인근로자 고용·취업 _ 외국인근로자 취업 _ 외국인근로자 취업 지원 및 제한 _ 고충상담 및 처리 지원.pdf\"\n",
    "    ],\n",
    "    \"노동법 및 권리보호\": [\n",
    "        \"외국인근로자 고용·취업 _ 외국인근로자 고용·취업 개요 _ 외국인근로자 권리구제 제도 _ 노동 관련 권리구제.pdf\",\n",
    "        \"외국인근로자 고용·취업 _ 외국인근로자 고용·취업 개요 _ 외국인근로자 권리구제 제도 _ 사회보장 관련 권리구제.pdf\",\n",
    "        \"외국인근로자 고용·취업 _ 외국인근로자 고용·취업 개요 _ 외국인근로자 권리보호 제도 _ 노동 관계 법령에 의한 보호.pdf\",\n",
    "        \"외국인근로자 고용·취업 _ 외국인근로자 고용·취업 개요 _ 외국인근로자 권리보호 제도 _ 사회보장 관계 법령에 의한 보호.pdf\",\n",
    "        \"외국인근로자 고용·취업 _ 외국인근로자 고용·취업 개요 _ 외국인근로자 고용·취업 제도 _ 「외국인근로자의 고용 등에 관한 법률」의 외국인근로자 고용·취업.pdf\"\n",
    "    ],\n",
    "    \"출입국 및 체류\": [\n",
    "        \"외국인근로자 고용·취업 _ 국내체류 관련 정보 _ 출·입국 및 체류 _ 출입국 관련 절차.pdf\",\n",
    "        \"외국인근로자 고용·취업 _ 국내체류 관련 정보 _ 출·입국 및 체류 _ 체류 관련 준수사항.pdf\",\n",
    "        \"외국인근로자 고용·취업 _ 국내체류 관련 정보 _ 국제결혼·자녀출생 및 사망 _ 국제결혼 관련 절차.pdf\",\n",
    "        \"외국인근로자 고용·취업 _ 국내체류 관련 정보 _ 국제결혼·자녀출생 및 사망 _ 자녀 출생·취학 관련 절차.pdf\",\n",
    "        \"외국인근로자 고용·취업 _ 국내체류 관련 정보 _ 국제결혼·자녀출생 및 사망 _ 장례 관련 절차.pdf\"\n",
    "    ],\n",
    "    \"사용자 의무\": [\n",
    "        \"외국인근로자 고용·취업 _ 외국인근로자 고용 _ 사용자 준수사항 _ 그 밖의 준수사항.pdf\",\n",
    "        \"외국인근로자 고용·취업 _ 외국인근로자 고용 _ 사용자 준수사항 _ 보험 가입 의무.pdf\",\n",
    "        \"외국인근로자 고용·취업 _ 외국인근로자 고용 _ 사용자 준수사항 _ 고용변동 등 신고 의무.pdf\",\n",
    "        \"외국인근로자 고용·취업 _ 외국인근로자 고용 _ 사용자 준수사항 _ 임금 및 근로조건 사항.pdf\",\n",
    "        \"외국인근로자 고용·취업 _ 국내체류 관련 정보 _ 여성근로자 보호 _ 직장 내 성희롱 예방 및 조치.pdf\",\n",
    "        \"외국인근로자 고용·취업 _ 국내체류 관련 정보 _ 여성근로자 보호 _ 여성보호를 위한 근로기준.pdf\"\n",
    "    ]\n",
    "}\n",
    "\n",
    "# 실행\n",
    "base_directory = \"./data/raw\"\n",
    "process_pdfs_by_category(base_directory, category_mapping)\n"
   ]
  },
  {
   "cell_type": "code",
   "execution_count": null,
   "metadata": {},
   "outputs": [],
   "source": []
  }
 ],
 "metadata": {
  "kernelspec": {
   "display_name": "ali",
   "language": "python",
   "name": "ali"
  },
  "language_info": {
   "codemirror_mode": {
    "name": "ipython",
    "version": 3
   },
   "file_extension": ".py",
   "mimetype": "text/x-python",
   "name": "python",
   "nbconvert_exporter": "python",
   "pygments_lexer": "ipython3",
   "version": "3.12.2"
  }
 },
 "nbformat": 4,
 "nbformat_minor": 2
}
